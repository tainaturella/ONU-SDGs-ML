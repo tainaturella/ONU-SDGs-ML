{
 "cells": [
  {
   "cell_type": "markdown",
   "metadata": {
    "collapsed": true
   },
   "source": [
    "# Final Project  - Machine Learning\n",
    "\n",
    "xxxxxx - Helena\n",
    "\n",
    "xxxxxx - Lucas Takeuti\n",
    "\n",
    "xxxxxx - (Tuga)\n",
    "\n",
    "187251 - Tainá Turella Caetano dos Santos\n",
    "\n",
    "# ONU's Sustainable Development Goals (SDG)\n",
    "\n",
    "In 2015, 195 nations agreed with the United Nations that they could change the world for the better. This will be\n",
    "accomplished by bringing together their respective governments, businesses, media, institutions of higher education,\n",
    "and local NGOs to improve the lives of the people in their country by the year 2030. The Sustainable Development\n",
    "Goals are a global call to action to end poverty, protect the environment and the climate, and ensure that people\n",
    "everywhere can enjoy peace and prosperity. These are the [goals](https://brasil.un.org/pt-br/sdgs)\n",
    "\n",
    "## Motivation\n",
    "\n",
    "For the Final Project of MC886 this group has decided to tackle the issues regarding COVID-19 and its relation towards sanitations and habitacional problems in Brazil.\n",
    "We want to investigate if there is any correlation between the lack of minimun habitacional rights on the Federal Units and the amount of cases of COVID-19 in those areas. We believe, and [others](https://brasil.elpais.com/internacional/2020-10-29/o-que-a-pandemia-nos-ensina-sobre-a-luta-por-habitacao-social-digna-na-america-latina.html) already discussed about it, that the inhabitance problem that exists in Brazil generated a bigger vulnerability of certain groups regarding COVID-19.\n",
    "With this study we would be covering the following SDGs: \n",
    "* Establish Good Helth and Well-Being\n",
    "* Mobilize Sustainable Citties and Communities\n",
    "\n",
    "We've highlighted those SDGs because it the project can stablish a connection between these two factors (housing and helth) it will be clear that some action must be taken over those factors so that we can have a society where people won't suffer even more from a desease just because the government does not provide minimun standarts of life quality.\n",
    "\n",
    "## Model and Methodology\n",
    "\n",
    "For this project the group will work with classification methods. We want to be able to highlight the Federal Units that had more cases and relate this data with the habitacional data and see if there is a paralell between the Federal Units. We believe that some of them might escape this classification attemptive, but they are probably outliers in a populational scale.\n",
    "To obtain the data that will be analyzed here the group searched into Open Data websites. One of them was [IBGE](https://www.ibge.gov.br/estatisticas/sociais/populacao/25844-desigualdades-sociais-por-cor-ou-raca.html?=&t=downloads) and the other one was [Brasil.io](https://brasil.io/dataset/covid19/caso_full/). The data that was retrieved from IBGE was submited to a simple transformation in order to make it easier to process the data available there.\n",
    "ADICIONAR OS MÉTODOS DE CLASSIFICAÇÃO E ADICIONAR OS GRÁFICOS\n",
    "\n",
    "Based on the graphs plotted above and crossing the two informations we are able to ADICIONAR O QUE SE PODE CONCLUIR COM RELAÇÃO AO QUE FOI APRESENTADO NOS GRÁFICOS. DISCUTIR QUE FATORES A MAIS PODEM INFLUENCIAR NAS ESTATÍSTICAS, MAS QUE NÃO FORAM LEVADOS EM CONSIDERAÇÃO NESTE ESTUDO\n",
    "\n",
    "\n",
    "## Disclaimer\n",
    "For this project all the members of the group where involved equaly during the discussion, devepolment and analysis.\n",
    "\n"
   ]
  },
  {
   "cell_type": "code",
   "execution_count": null,
   "metadata": {},
   "outputs": [],
   "source": []
  }
 ],
 "metadata": {
  "kernelspec": {
   "display_name": "Python 3",
   "language": "python",
   "name": "python3"
  },
  "language_info": {
   "codemirror_mode": {
    "name": "ipython",
    "version": 3
   },
   "file_extension": ".py",
   "mimetype": "text/x-python",
   "name": "python",
   "nbconvert_exporter": "python",
   "pygments_lexer": "ipython3",
   "version": "3.8.5"
  }
 },
 "nbformat": 4,
 "nbformat_minor": 1
}